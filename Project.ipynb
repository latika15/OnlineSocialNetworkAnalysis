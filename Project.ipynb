{
 "cells": [
  {
   "cell_type": "markdown",
   "metadata": {},
   "source": [
    " #Traffic Analysis of Chicago using Twitter \n",
    " \n",
    " Project by:\n",
    " \n",
    " Ishan Bilolikar (A20320338)\n",
    " \n",
    " Latika Singh (A20336453)"
   ]
  },
  {
   "cell_type": "code",
   "execution_count": 527,
   "metadata": {
    "collapsed": true
   },
   "outputs": [],
   "source": [
    "from collections import Counter\n",
    "import matplotlib.pyplot as plt\n",
    "import glob\n",
    "import hashlib\n",
    "import io\n",
    "import math\n",
    "import os\n",
    "import sys\n",
    "import re\n",
    "import csv\n",
    "import datetime\n",
    "import jsonpickle\n",
    "import random\n",
    "import numpy as np\n",
    "from sklearn.cross_validation import KFold\n",
    "from sklearn.feature_extraction.text import CountVectorizer\n",
    "from sklearn.linear_model import LogisticRegression\n",
    "from sklearn.metrics import accuracy_score\n",
    "from TwitterAPI import TwitterAPI\n",
    "%matplotlib inline"
   ]
  },
  {
   "cell_type": "code",
   "execution_count": 4,
   "metadata": {
    "collapsed": false
   },
   "outputs": [
    {
     "name": "stdout",
     "output_type": "stream",
     "text": [
      "Downloading max 10000000 tweets\n",
      "No more tweets found\n",
      "Downloaded 0 tweets, Saved to region7.txt\n"
     ]
    }
   ],
   "source": [
    "#Download data from twitter for every region using geocode\n",
    "import tweepy\n",
    "#Reference http://www.karambelkar.info/2015/01/how-to-use-twitters-search-rest-api-most-effectively./\n",
    "# Replace the API_KEY and API_SECRET with your application's key and secret.\n",
    "auth = tweepy.AppAuthHandler('API_KEY', 'API_SECRET')\n",
    " \n",
    "api = tweepy.API(auth, wait_on_rate_limit=True,wait_on_rate_limit_notify=True)\n",
    " \n",
    "if (not api):\n",
    "    print (\"Can't Authenticate\")\n",
    "    sys.exit(-1)\n",
    "    \n",
    "\n",
    "searchQuery = 'chicago traffic'  # this is what we're searching for\n",
    "maxTweets = 10000000 # Some arbitrary large number\n",
    "tweetsPerQry = 100  # this is the max the API permits\n",
    "geocode = '41.866129,-87.595378,1mi' #input geocode. Longitude,latitude,radius\n",
    "fName = 'region7.txt' # We'll store the tweets in a text file.\n",
    "\n",
    "\n",
    "# If results from a specific ID onwards are reqd, set since_id to that ID.\n",
    "# else default to no lower limit, go as far back as API allows\n",
    "sinceId = None\n",
    "\n",
    "# If results only below a specific ID are, set max_id to that ID.\n",
    "# else default to no upper limit, start from the most recent tweet matching the search query.\n",
    "max_id = -1L\n",
    "\n",
    "tweetCount = 0\n",
    "print(\"Downloading max {0} tweets\".format(maxTweets))\n",
    "with open('data'+os.sep+fName, 'a') as f:\n",
    "    while tweetCount < maxTweets:\n",
    "        try:\n",
    "            if (max_id <= 0):\n",
    "                if (not sinceId):\n",
    "                    new_tweets = api.search(q=searchQuery,geocode = geocode, count=tweetsPerQry)\n",
    "                else:\n",
    "                    new_tweets = api.search(q=searchQuery, count=tweetsPerQry,\n",
    "                                            since_id=sinceId)\n",
    "            else:\n",
    "                if (not sinceId):\n",
    "                    new_tweets = api.search(q=searchQuery, count=tweetsPerQry,\n",
    "                                            max_id=str(max_id - 1))\n",
    "                else:\n",
    "                    new_tweets = api.search(q=searchQuery, count=tweetsPerQry,\n",
    "                                            max_id=str(max_id - 1),\n",
    "                                            since_id=sinceId)\n",
    "            if not new_tweets:\n",
    "                print(\"No more tweets found\")\n",
    "                break\n",
    "            for tweet in new_tweets:\n",
    "                f.write(jsonpickle.encode(tweet._json, unpicklable=False) +\n",
    "                        '\\n')\n",
    "            tweetCount += len(new_tweets)\n",
    "            print(\"Downloaded {0} tweets\".format(tweetCount))\n",
    "            max_id = new_tweets[-1].id\n",
    "        except tweepy.TweepError as e:\n",
    "            # Just exit if any error\n",
    "            print(\"some error : \" + str(e))\n",
    "            break\n",
    "\n",
    "print (\"Downloaded {0} tweets, Saved to {1}\".format(tweetCount, fName))"
   ]
  },
  {
   "cell_type": "code",
   "execution_count": 416,
   "metadata": {
    "collapsed": false
   },
   "outputs": [
    {
     "name": "stdout",
     "output_type": "stream",
     "text": [
      "25 region tweet files found\n",
      "['region1.txt', 'region10.txt', 'region11.txt', 'region12.txt', 'region14.txt', 'region15.txt', 'region16.txt', 'region17.txt', 'region2.txt', 'region20.txt', 'region21.txt', 'region22.txt', 'region24.txt', 'region25.txt', 'region26.txt', 'region27.txt', 'region28.txt', 'region29.txt', 'region3.txt', 'region4.txt', 'region5.txt', 'region6.txt', 'region7.txt', 'region8.txt', 'region9.txt']\n"
     ]
    }
   ],
   "source": [
    "def get_data():\n",
    "    path = 'data'\n",
    "    filenames = []\n",
    "    for filename in os.listdir(path):\n",
    "        if \".txt\" in filename:\n",
    "            filenames.append(filename)\n",
    "    \n",
    "    return sorted(filenames)\n",
    "\n",
    "filenames = get_data()\n",
    "print '%d region tweet files found' % len(filenames)\n",
    "print filenames"
   ]
  },
  {
   "cell_type": "code",
   "execution_count": 419,
   "metadata": {
    "collapsed": false
   },
   "outputs": [],
   "source": [
    "labeled_files = ['region1.txt','region8.txt','region22.txt']\n",
    "unlabeled_files = [filename for filename in filenames if filename not in labeled_files]"
   ]
  },
  {
   "cell_type": "code",
   "execution_count": 316,
   "metadata": {
    "collapsed": false,
    "scrolled": true
   },
   "outputs": [
    {
     "name": "stdout",
     "output_type": "stream",
     "text": [
      "978 tweets found in region1\n",
      "First tweet text:\n",
      "Closed in #NorthSide on Lawrence Ave Both EB/WB between N Sheridan Rd and Broadway St #traffic #Chicago https://t.co/GCesNZGx1X\n"
     ]
    }
   ],
   "source": [
    "#get tweets from a file\n",
    "def get_file_data(filename):\n",
    "    '''\n",
    "    param....\n",
    "        filename.....filename of the file\n",
    "    return....list of text of all tweets in the file        \n",
    "    '''\n",
    "    tweets = []\n",
    "    f = open('data'+os.sep+filename, 'r')\n",
    "    for line in f:\n",
    "        t = jsonpickle.decode(line)\n",
    "        tweets.append(t['text'])\n",
    "        \n",
    "    f.close()\n",
    "    \n",
    "    return tweets\n",
    "\n",
    "region1_tweets = get_file_data('region1.txt')\n",
    "print '%d tweets found in region1' % len(region1_tweets)\n",
    "print 'First tweet text:'\n",
    "print region1_tweets[0]"
   ]
  },
  {
   "cell_type": "code",
   "execution_count": 317,
   "metadata": {
    "collapsed": false
   },
   "outputs": [
    {
     "name": "stdout",
     "output_type": "stream",
     "text": [
      "978  true labels\n",
      "[1 1 1 1 1 1 1 0 1 1 1 1 1 1 1 1 1 1 1 1 0 0 1 1 1 0 0 1 0 1 0 0 0 1 1 1 0\n",
      " 1 0 0 1 0 0 0 0 1 1 0 0 1 1 1 0 1 0 1 1 1 1 1 1 1 1 1 1 1 1 0 0 0 0 0 0 1\n",
      " 0 0 0 0 0 0 0 0 1 1 0 0 0 0 1 0 1 1 0 0 0 0 1 1 1 1 1 1 1 1 1 1 0 0 0 1 1\n",
      " 1 1 1 1 1 0 1 1 1 1 1 1 1 0 1 1 0 1 1 0 0 1 0 0 0 0 0 0 1 0 0 0 0 0 0 0 0\n",
      " 0 1 0 0 0 0 0 0 0 0 0 0 1 0 0 0 0 0 1 0 0 0 1 0 1 1 1 0 1 1 1 1 1 1 1 0 1\n",
      " 1 1 1 0 0 0 1 0 1 0 0 0 0 0 0 1 0 0 0 1 0 1 1 0 1 0 1 0 0 0 0 1 0 1 0 0 0\n",
      " 0 0 0 0 1 1 1 0 0 1 1 1 1 1 1 1 1 1 1 1 1 0 0 1 0 0 0 0 0 0 1 1 1 1 1 1 1\n",
      " 1 1 1 0 1 0 1 1 0 0 0 0 1 0 1 0 0 1 1 1 1 0 1 0 0 0 0 1 0 0 1 0 0 0 1 1 0\n",
      " 0 0 0 0 1 0 0 1 1 0 0 0 1 1 0 1 0 1 0 0 1 0 1 1 1 1 1 0 1 0 0 0 1 0 0 1 0\n",
      " 1 1 0 0 0 0 0 0 0 0 0 0 0 0 0 1 1 1 0 0 1 0 0 1 0 0 0 0 0 0 0 0 0 0 0 0 0\n",
      " 0 0 0 0 0 0 0 0 0 0 0 0 0 0 0 0 0 0 0 0 0 0 0 0 0 0 0 0 0 0 0 0 0 0 0 0 1\n",
      " 0 1 0 0 0 0 0 0 0 0 0 0 0 0 0 0 0 0 0 0 0 0 0 0 0 0 0 0 0 0 0 0 0 0 0 0 0\n",
      " 0 0 0 0 0 0 0 0 0 0 0 0 0 0 0 0 0 0 0 0 0 0 0 0 0 0 0 0 0 0 0 0 0 0 0 0 0\n",
      " 0 0 0 0 0 0 0 0 0 0 0 0 0 0 0 0 0 0 0 0 0 0 0 1 0 0 0 0 0 1 0 0 0 0 0 0 0\n",
      " 0 0 0 0 0 0 0 0 0 0 0 0 0 0 0 0 0 0 0 0 0 0 0 0 0 0 0 0 0 0 0 0 1 1 0 1 1\n",
      " 1 1 1 1 1 0 1 0 0 0 1 1 1 1 0 0 0 1 1 0 1 0 0 1 1 1 0 1 0 0 0 0 1 0 1 1 1\n",
      " 0 1 0 1 1 1 1 0 0 0 0 1 1 1 1 0 0 0 1 1 1 0 0 0 1 0 0 1 1 1 0 0 1 1 1 1 1\n",
      " 1 1 1 1 1 1 0 1 1 1 0 1 1 1 1 1 1 1 1 1 1 1 1 1 1 0 1 0 1 1 0 1 1 1 1 1 1\n",
      " 1 1 1 1 1 1 1 1 1 1 1 1 1 1 1 1 1 1 1 1 1 1 1 1 1 1 1 0 1 1 1 1 1 1 1 1 1\n",
      " 1 1 1 1 0 1 1 1 0 1 1 1 1 1 0 1 0 0 1 0 0 1 1 1 1 1 0 1 0 0 1 1 1 1 1 1 1\n",
      " 1 1 0 1 1 1 1 1 1 1 1 1 1 0 0 1 1 0 1 0 0 1 1 1 1 1 0 1 1 1 0 0 1 1 1 1 0\n",
      " 0 1 0 0 1 0 1 0 0 0 0 0 1 1 1 1 1 1 1 1 0 1 1 1 0 1 0 1 1 0 0 1 1 1 1 1 1\n",
      " 1 1 1 1 1 0 0 1 0 1 1 1 1 1 1 0 1 1 1 1 1 1 1 1 0 1 1 1 0 1 1 1 1 1 0 0 0\n",
      " 1 1 1 0 0 0 1 0 0 0 0 0 1 1 0 0 0 0 0 0 0 0 0 1 0 0 0 0 1 1 1 1 1 0 0 0 0\n",
      " 0 1 1 1 0 0 0 0 0 1 1 0 0 0 0 0 0 1 1 0 1 1 1 1 1 0 0 0 1 1 1 0 0 0 0 1 0\n",
      " 0 0 0 1 1 1 0 0 0 0 0 0 0 0 0 1 0 0 0 0 0 1 0 0 0 0 0 0 0 0 0 0 1 1 0 0 0\n",
      " 0 0 1 1 0 0 0 0 0 0 1 1 0 0 1 1]\n"
     ]
    }
   ],
   "source": [
    "def get_true_labels(filename):\n",
    "    '''\n",
    "    tweets are labeled manually in the file with the key 'label'\n",
    "    param...\n",
    "        filename...filename\n",
    "    return...list of true labels of all the manually labeled tweets\n",
    "    '''\n",
    "    true_labels = []\n",
    "    f = open('data'+os.sep+filename, 'r')\n",
    "    for line in f:\n",
    "        t = jsonpickle.decode(line)\n",
    "        true_labels.append(t['label']) \n",
    "    f.close()\n",
    "    return np.array(true_labels)\n",
    "\n",
    "y = get_true_labels('region1.txt')\n",
    "print len(y),' true labels'\n",
    "print (y)"
   ]
  },
  {
   "cell_type": "code",
   "execution_count": 318,
   "metadata": {
    "collapsed": false
   },
   "outputs": [
    {
     "data": {
      "text/plain": [
       "[u'closed',\n",
       " u'in',\n",
       " u'#northside',\n",
       " u'on',\n",
       " u'lawrence',\n",
       " u'ave',\n",
       " u'both',\n",
       " u'eb/wb',\n",
       " u'between',\n",
       " u'n',\n",
       " u'sheridan',\n",
       " u'rd',\n",
       " u'and',\n",
       " u'broadway',\n",
       " u'st',\n",
       " u'#traffic',\n",
       " u'#chicago',\n",
       " u'THIS_IS_A_URL']"
      ]
     },
     "execution_count": 318,
     "metadata": {},
     "output_type": "execute_result"
    }
   ],
   "source": [
    "def tokenize(text,options):\n",
    "    \"\"\" Split a tweet into tokens.\"\"\"\n",
    "    '''\n",
    "    param....\n",
    "        text....text which needs to be tokenized\n",
    "        options....tokenizer is a list of options requied to tokenize the text \n",
    "                    eg. ['lowercase','keep_punctuation',  'collapse_mentions'] will consider these as true\n",
    "    return....list of tokens\n",
    "    '''\n",
    "    if not text:\n",
    "        return []\n",
    "    keep_punctuations = False\n",
    "    for option in options:\n",
    "        if option == 'lowercase':\n",
    "            text = text.lower()\n",
    "        tokens = []\n",
    "        if option == 'collapse_urls':\n",
    "            text = re.sub('http\\S+', 'THIS_IS_A_URL', text)\n",
    "        if option == 'collapse_mentions': \n",
    "            text = re.sub('@\\S+', 'THIS_IS_A_MENTION', text)\n",
    "        if option == 'collapse_hashtags':\n",
    "            text = re.sub('#\\S+', 'THIS_IS_A_HashTag', text)\n",
    "        if option == 'keep_punctuation':\n",
    "            keep_punctuations = True\n",
    "            \n",
    "    if keep_punctuations:\n",
    "        tokens = text.split()\n",
    "    else:\n",
    "        tokens = re.sub('\\W+', ' ', text.lower()).split()\n",
    "    return tokens\n",
    "\n",
    "tokenize(region1_tweets[0],['lowercase','keep_punctuation', 'collapse_mentions','collapse_urls'])\n"
   ]
  },
  {
   "cell_type": "code",
   "execution_count": 319,
   "metadata": {
    "collapsed": false
   },
   "outputs": [
    {
     "name": "stdout",
     "output_type": "stream",
     "text": [
      "matrix represents 978 documents with 1029 features\n",
      "first doc has terms:\n",
      "[109, 132, 158, 176, 182, 218, 239, 241, 317, 392, 453, 469, 615, 659, 729, 794, 834, 866, 915, 965]\n"
     ]
    }
   ],
   "source": [
    "def do_vectorize(all_tweets, tokenizer_fn=tokenize,options=[], min_df=2,\n",
    "                  binary=True):\n",
    "    \"\"\"\n",
    "    Convert a list of filenames into a sparse csr_matrix, where\n",
    "    each row is a file and each column represents a unique word.\n",
    "    Use sklearn's CountVectorizer: http://goo.gl/eJ2PJ5\n",
    "    Params:\n",
    "        all_tweets......list of 'text' of all tweets\n",
    "        tokenizer_fn....the function used to tokenize each document\n",
    "        options.........list of options for the tokenizer. 5 options available\n",
    "                ['lowercase', 'keep_punctuation', 'collapse_hashtags', 'collapse_urls', 'collapse_mentions']\n",
    "        min_df..........remove terms from the vocabulary that don't appear\n",
    "                        in at least this many documents\n",
    "        binary..........If true, each documents is represented by a binary\n",
    "                        vector, where 1 means a term occurs at least once in \n",
    "                        the document. If false, the term frequency is used instead.\n",
    "    Return:\n",
    "        A tuple (X, vec), where X is the csr_matrix of feature vectors,\n",
    "        and vec is the CountVectorizer object.\n",
    "    \"\"\"\n",
    "    vect = CountVectorizer(input='content',tokenizer= lambda text: tokenizer_fn(text,options), \n",
    "                           min_df=min_df,binary=binary)\n",
    "    Matrix = vect.fit_transform(all_tweets)\n",
    "    return Matrix, vect\n",
    "    ###\n",
    "    \n",
    "matrix, vec = do_vectorize(region1_tweets)\n",
    "print ('matrix represents %d documents with %d features' % (matrix.shape[0], matrix.shape[1]))\n",
    "print('first doc has terms:\\n%s' % (str(sorted(matrix[0].nonzero()[1]))))\n",
    "    "
   ]
  },
  {
   "cell_type": "code",
   "execution_count": 320,
   "metadata": {
    "collapsed": true
   },
   "outputs": [],
   "source": [
    "#Create a LogsticRegression object\n",
    "def get_clf():\n",
    "    return LogisticRegression(random_state=42)"
   ]
  },
  {
   "cell_type": "code",
   "execution_count": 321,
   "metadata": {
    "collapsed": false
   },
   "outputs": [
    {
     "name": "stdout",
     "output_type": "stream",
     "text": [
      "fold 0 accuracy = 0.8520\n",
      "fold 1 accuracy = 0.9490\n",
      "fold 2 accuracy = 0.9694\n",
      "fold 3 accuracy = 0.8462\n",
      "fold 4 accuracy = 0.8205\n",
      "average cross validation accuracy=0.8874\n"
     ]
    }
   ],
   "source": [
    "def do_cross_validation(X, y, n_folds=5, verbose=False):\n",
    "    \"\"\"\n",
    "    Perform n-fold cross validation, calling get_clf() to train n\n",
    "    different classifiers. Use sklearn's KFold class: http://goo.gl/wmyFhi\n",
    "    Be sure not to shuffle the data, otherwise your output will differ.\n",
    "    Params:\n",
    "        X.........a csr_matrix of feature vectors\n",
    "        y.........the true labels of each document\n",
    "        n_folds...the number of folds of cross-validation to do\n",
    "        verbose...If true, report the testing accuracy for each fold.\n",
    "    Return:\n",
    "        the average testing accuracy across all folds.\n",
    "    \"\"\"\n",
    "    model =  get_clf()\n",
    "    cv = KFold(len(y), n_folds=n_folds, random_state = model)\n",
    "    accuracies = []\n",
    "    for train_ind, test_ind in cv:\n",
    "        model.fit(X[train_ind], y[train_ind])\n",
    "        predictions = model.predict(X[test_ind])\n",
    "        accuracy = accuracy_score(y[test_ind], predictions)\n",
    "        if verbose is True:\n",
    "            print 'fold %d accuracy = %.4f'%(len(accuracies) , accuracy)\n",
    "        accuracies.append(accuracy)\n",
    "        mean = np.mean(accuracies)\n",
    "    return mean\n",
    "    \n",
    "print('average cross validation accuracy=%.4f' %\n",
    "      do_cross_validation(matrix, y, verbose=True))"
   ]
  },
  {
   "cell_type": "code",
   "execution_count": 331,
   "metadata": {
    "collapsed": false
   },
   "outputs": [],
   "source": [
    "def do_expt(tweets, y, tokenizer_fn=tokenize,options = [],\n",
    "            min_df=2, binary=True, n_folds=5):\n",
    "    \"\"\"\n",
    "    Run one experiment, which consists of vectorizing each file,\n",
    "    performing cross-validation, and returning the average accuracy.\n",
    "    You should call do_vectorize and do_cross_validation here.\n",
    "    Params:\n",
    "        tweets..........list of 'text' of all tweets\n",
    "        y...............the true sentiment labels for each file\n",
    "        tokenizer_fn....the function used to tokenize each document\n",
    "        options.........list of options for the tokenizer. 5 options available\n",
    "                ['lowercase', 'keep_punctuation', 'collapse_hashtags', 'collapse_urls', 'collapse_mentions']\n",
    "        min_df..........remove terms from the vocabulary that don't appear\n",
    "                        in at least this many documents\n",
    "        binary..........If true, each documents is represented by a binary\n",
    "                        vector, where 1 means a term occurs at least once in \n",
    "                        the document. If false, the term frequency is used instead.\n",
    "        n_folds.........The number of cross-validation folds to use.\n",
    "    Returns:\n",
    "        the average cross validation testing accuracy.\n",
    "    \"\"\"\n",
    "    matrix, vec = do_vectorize(tweets,tokenizer_fn=tokenizer_fn,options = options,min_df=min_df,binary=binary)\n",
    "    avg_accuracy = do_cross_validation(matrix, y, n_folds=n_folds)\n",
    "    return avg_accuracy"
   ]
  },
  {
   "cell_type": "code",
   "execution_count": 466,
   "metadata": {
    "collapsed": false
   },
   "outputs": [
    {
     "name": "stdout",
     "output_type": "stream",
     "text": [
      "accuracy using default settings: 0.8874\n"
     ]
    }
   ],
   "source": [
    "print('accuracy using default settings: %.4g' % do_expt(region1_tweets, y))"
   ]
  },
  {
   "cell_type": "code",
   "execution_count": 515,
   "metadata": {
    "collapsed": false
   },
   "outputs": [
    {
     "data": {
      "image/png": "[encoded data removed]",
      "text/plain": [
       "<matplotlib.figure.Figure at 0x1b8b5ef0>"
      ]
     },
     "metadata": {},
     "output_type": "display_data"
    },
    {
     "data": {
      "text/plain": [
       "[0.88139059304703471,\n",
       " 0.88741496598639458,\n",
       " 0.90998316852514216,\n",
       " 0.92332556332556359,\n",
       " 0.92946428571428574,\n",
       " 0.91979166666666667]"
      ]
     },
     "execution_count": 515,
     "metadata": {},
     "output_type": "execute_result"
    }
   ],
   "source": [
    "def compare_n_folds(tweets, y):\n",
    "    \"\"\"\n",
    "    Vary the setting of n_folds parameter in the do_expt \n",
    "    function to be in [2,5,10,20]. For each setting, call do_expt and \n",
    "    store the resulting accuracy. Plot the accuracies for each setting.\n",
    "    Also return the list of accuracies. Use the default value for all\n",
    "    other arguments to the do_expt function.\n",
    "    Params:\n",
    "        tweets.......list of 'text' of all tweets\n",
    "        y............true labels for each file (a numpy array)\n",
    "    Returns:\n",
    "        a list of average testing accuracies, one per fold.\n",
    "    \"\"\"\n",
    "    avg = []\n",
    "    value_list = [2,5,10,15,20,30]\n",
    "    for v in value_list:\n",
    "        a = do_expt(tweets,y,n_folds=v)\n",
    "        avg.append(a)\n",
    "        \n",
    "    \n",
    "    plt.plot(value_list , avg, 'bo-')\n",
    "    plt.xlabel(\"n_folds\")\n",
    "    plt.ylabel(\"accuracy\")\n",
    "    plt.show()\n",
    "    return avg\n",
    "    \n",
    "compare_n_folds(region1_tweets, y)"
   ]
  },
  {
   "cell_type": "markdown",
   "metadata": {},
   "source": [
    "It is observed that the accuracy decreseases after 20 folds"
   ]
  },
  {
   "cell_type": "code",
   "execution_count": 526,
   "metadata": {
    "collapsed": false
   },
   "outputs": [
    {
     "data": {
      "image/png": "[encoded data removed]",
      "text/plain": [
       "<matplotlib.figure.Figure at 0x1b6d0f60>"
      ]
     },
     "metadata": {},
     "output_type": "display_data"
    },
    {
     "data": {
      "text/plain": [
       "[0.88536368393511256,\n",
       " 0.88741496598639458,\n",
       " 0.88332286760858181,\n",
       " 0.87614861329147042,\n",
       " 0.87614338042909468,\n",
       " 0.86897959183673468]"
      ]
     },
     "execution_count": 526,
     "metadata": {},
     "output_type": "execute_result"
    }
   ],
   "source": [
    "def min_df_expt(tweets, y):\n",
    "    \"\"\"\n",
    "    Vary the setting of min_df parameter in the do_expt \n",
    "    function to be ints in the range (1,6) (inclusive). \n",
    "    Params:\n",
    "        tweets.......list of text training file names\n",
    "        y............true labels for each file (a numpy array)\n",
    "    Returns:\n",
    "        a list of average testing accuracies, one per min_df value.\n",
    "    \"\"\"\n",
    "    accuracy_list = []\n",
    "    min_df_list = [n for n in range(1,7)]\n",
    "    \n",
    "    for n in min_df_list:\n",
    "        accuracy_list.append(do_expt(tweets, y,min_df=n))\n",
    "    plt.plot(min_df_list,accuracy_list,'bo-')\n",
    "    plt.xlabel('min_df')\n",
    "    plt.ylabel('accuracy')\n",
    "    plt.show()\n",
    "    return accuracy_list\n",
    "\n",
    "min_df_expt(region1_tweets, y)"
   ]
  },
  {
   "cell_type": "code",
   "execution_count": 525,
   "metadata": {
    "collapsed": false
   },
   "outputs": [
    {
     "name": "stdout",
     "output_type": "stream",
     "text": [
      "Options:  ['collapse_hashtags']\n",
      "accuracy using above options : 0.8496\n"
     ]
    }
   ],
   "source": [
    "option = ['collapse_hashtags']\n",
    "print 'Options: ',option\n",
    "print('accuracy using above options : %.4g' %  do_expt(region22_tweets, y, tokenizer_fn = tokenize,options=option))"
   ]
  },
  {
   "cell_type": "markdown",
   "metadata": {},
   "source": [
    "**Note:** Accuracy is decreased when hastags are collapsed."
   ]
  },
  {
   "cell_type": "code",
   "execution_count": 524,
   "metadata": {
    "collapsed": false
   },
   "outputs": [
    {
     "name": "stdout",
     "output_type": "stream",
     "text": [
      "lowercase=True  keep_punctuation=True  collapse_hashtags=True  collapse_urls=True  collapse_mentions=True\n",
      "\n",
      "Accuracy: 0.8598\n",
      "--------------------------------------------------------------------------------\n",
      "lowercase=True  keep_punctuation=True  collapse_hashtags=True  collapse_urls=True  collapse_mentions=False\n",
      "\n",
      "Accuracy: 0.8394\n",
      "--------------------------------------------------------------------------------\n",
      "lowercase=True  keep_punctuation=True  collapse_hashtags=True  collapse_urls=False  collapse_mentions=True\n",
      "\n",
      "Accuracy: 0.8659\n",
      "--------------------------------------------------------------------------------\n",
      "lowercase=True  keep_punctuation=True  collapse_hashtags=True  collapse_urls=False  collapse_mentions=False\n",
      "\n",
      "Accuracy: 0.8639\n",
      "--------------------------------------------------------------------------------\n",
      "lowercase=True  keep_punctuation=True  collapse_hashtags=False  collapse_urls=True  collapse_mentions=True\n",
      "\n",
      "Accuracy: 0.868\n",
      "--------------------------------------------------------------------------------\n",
      "lowercase=True  keep_punctuation=True  collapse_hashtags=False  collapse_urls=True  collapse_mentions=False\n",
      "\n",
      "Accuracy: 0.8731\n",
      "--------------------------------------------------------------------------------\n",
      "lowercase=True  keep_punctuation=True  collapse_hashtags=False  collapse_urls=False  collapse_mentions=True\n",
      "\n",
      "Accuracy: 0.8731\n",
      "--------------------------------------------------------------------------------\n",
      "lowercase=True  keep_punctuation=True  collapse_hashtags=False  collapse_urls=False  collapse_mentions=False\n",
      "\n",
      "Accuracy: 0.8711\n",
      "--------------------------------------------------------------------------------\n",
      "lowercase=True  keep_punctuation=False  collapse_hashtags=True  collapse_urls=True  collapse_mentions=True\n",
      "\n",
      "Accuracy: 0.8507\n",
      "--------------------------------------------------------------------------------\n",
      "lowercase=True  keep_punctuation=False  collapse_hashtags=True  collapse_urls=True  collapse_mentions=False\n",
      "\n",
      "Accuracy: 0.8476\n",
      "--------------------------------------------------------------------------------\n",
      "lowercase=True  keep_punctuation=False  collapse_hashtags=True  collapse_urls=False  collapse_mentions=True\n",
      "\n",
      "Accuracy: 0.8537\n",
      "--------------------------------------------------------------------------------\n",
      "lowercase=True  keep_punctuation=False  collapse_hashtags=True  collapse_urls=False  collapse_mentions=False\n",
      "\n",
      "Accuracy: 0.8496\n",
      "--------------------------------------------------------------------------------\n",
      "lowercase=True  keep_punctuation=False  collapse_hashtags=False  collapse_urls=True  collapse_mentions=True\n",
      "\n",
      "Accuracy: 0.8956\n",
      "--------------------------------------------------------------------------------\n",
      "lowercase=True  keep_punctuation=False  collapse_hashtags=False  collapse_urls=True  collapse_mentions=False\n",
      "\n",
      "Accuracy: 0.8936\n",
      "--------------------------------------------------------------------------------\n",
      "lowercase=True  keep_punctuation=False  collapse_hashtags=False  collapse_urls=False  collapse_mentions=True\n",
      "\n",
      "Accuracy: 0.8956\n",
      "--------------------------------------------------------------------------------\n",
      "lowercase=True  keep_punctuation=False  collapse_hashtags=False  collapse_urls=False  collapse_mentions=False\n",
      "\n",
      "Accuracy: 0.8874\n",
      "--------------------------------------------------------------------------------\n",
      "lowercase=False  keep_punctuation=True  collapse_hashtags=True  collapse_urls=True  collapse_mentions=True\n",
      "\n",
      "Accuracy: 0.8598\n",
      "--------------------------------------------------------------------------------\n",
      "lowercase=False  keep_punctuation=True  collapse_hashtags=True  collapse_urls=True  collapse_mentions=False\n",
      "\n",
      "Accuracy: 0.8394\n",
      "--------------------------------------------------------------------------------\n",
      "lowercase=False  keep_punctuation=True  collapse_hashtags=True  collapse_urls=False  collapse_mentions=True\n",
      "\n",
      "Accuracy: 0.8659\n",
      "--------------------------------------------------------------------------------\n",
      "lowercase=False  keep_punctuation=True  collapse_hashtags=True  collapse_urls=False  collapse_mentions=False\n",
      "\n",
      "Accuracy: 0.8639\n",
      "--------------------------------------------------------------------------------\n",
      "lowercase=False  keep_punctuation=True  collapse_hashtags=False  collapse_urls=True  collapse_mentions=True\n",
      "\n",
      "Accuracy: 0.868\n",
      "--------------------------------------------------------------------------------\n",
      "lowercase=False  keep_punctuation=True  collapse_hashtags=False  collapse_urls=True  collapse_mentions=False\n",
      "\n",
      "Accuracy: 0.8731\n",
      "--------------------------------------------------------------------------------\n",
      "lowercase=False  keep_punctuation=True  collapse_hashtags=False  collapse_urls=False  collapse_mentions=True\n",
      "\n",
      "Accuracy: 0.8731\n",
      "--------------------------------------------------------------------------------\n",
      "lowercase=False  keep_punctuation=True  collapse_hashtags=False  collapse_urls=False  collapse_mentions=False\n",
      "\n",
      "Accuracy: 0.8711\n",
      "--------------------------------------------------------------------------------\n",
      "lowercase=False  keep_punctuation=False  collapse_hashtags=True  collapse_urls=True  collapse_mentions=True\n",
      "\n",
      "Accuracy: 0.8507\n",
      "--------------------------------------------------------------------------------\n",
      "lowercase=False  keep_punctuation=False  collapse_hashtags=True  collapse_urls=True  collapse_mentions=False\n",
      "\n",
      "Accuracy: 0.8476\n",
      "--------------------------------------------------------------------------------\n",
      "lowercase=False  keep_punctuation=False  collapse_hashtags=True  collapse_urls=False  collapse_mentions=True\n",
      "\n",
      "Accuracy: 0.8537\n",
      "--------------------------------------------------------------------------------\n",
      "lowercase=False  keep_punctuation=False  collapse_hashtags=True  collapse_urls=False  collapse_mentions=False\n",
      "\n",
      "Accuracy: 0.8496\n",
      "--------------------------------------------------------------------------------\n",
      "lowercase=False  keep_punctuation=False  collapse_hashtags=False  collapse_urls=True  collapse_mentions=True\n",
      "\n",
      "Accuracy: 0.8956\n",
      "--------------------------------------------------------------------------------\n",
      "lowercase=False  keep_punctuation=False  collapse_hashtags=False  collapse_urls=True  collapse_mentions=False\n",
      "\n",
      "Accuracy: 0.8936\n",
      "--------------------------------------------------------------------------------\n",
      "lowercase=False  keep_punctuation=False  collapse_hashtags=False  collapse_urls=False  collapse_mentions=True\n",
      "\n",
      "Accuracy: 0.8956\n",
      "--------------------------------------------------------------------------------\n",
      "lowercase=False  keep_punctuation=False  collapse_hashtags=False  collapse_urls=False  collapse_mentions=False\n",
      "\n",
      "Accuracy: 0.8874\n",
      "--------------------------------------------------------------------------------\n"
     ]
    }
   ],
   "source": [
    "from itertools import product\n",
    "def show_all_possible_accuracies(tweets,y,tokenizer_fn = tokenize):\n",
    "    #This method takes all labeled tweets and calculates accuracy \n",
    "    #for all possible option in tokenizer function\n",
    "    '''\n",
    "    Params....\n",
    "        tweets......list of text of all tweets\n",
    "        y...........list true labels of the tweets\n",
    "    Result...Display accuracy of the training data with all possible option .\n",
    "    '''\n",
    "    lowercase_opts = ['lowercase', '']\n",
    "    keep_punctuation_opts = ['keep_punctuation', '']\n",
    "    hashtag_opts = ['collapse_hashtags', '']\n",
    "    url_opts = ['collapse_urls', '']\n",
    "    mention_opts = ['collapse_mentions', '']\n",
    "    argnames = ['lowercase', 'keep_punctuation', 'collapse_hashtags', \n",
    "                'collapse_urls', 'collapse_mentions']\n",
    "    option_iter = product(lowercase_opts,\n",
    "                           keep_punctuation_opts,\n",
    "                           hashtag_opts, url_opts,\n",
    "                           mention_opts)\n",
    "    #acc = []\n",
    "    for options in option_iter:\n",
    "        combinations = []\n",
    "        for name, opt in zip(argnames, options):\n",
    "            if opt == '':\n",
    "                t ='False'\n",
    "            else:\n",
    "                t = 'True'\n",
    "            opt_text = name+'='+t\n",
    "            combinations.append(opt_text)\n",
    "        print '  '.join('%s' % opttext for opttext in combinations)\n",
    "        print\n",
    "        print('Accuracy: %.4g' %  do_expt(tweets, y, tokenizer_fn = tokenize,options=options))\n",
    "        print '----'*20\n",
    "        #acc.append(do_expt(tweets, y, tokenizer_fn = tokenizer_fn, options=options))\n",
    "\n",
    "show_all_possible_accuracies(region1_tweets,y)"
   ]
  },
  {
   "cell_type": "markdown",
   "metadata": {},
   "source": [
    "**Top settings that give accuracy above 89%**\n",
    "\n",
    "**1.**lowercase=True  keep_punctuation=False  collapse_hashtags=False  collapse_urls=True  collapse_mentions=True\n",
    "\n",
    "Accuracy: 0.8956\n",
    "\n",
    "**2.**lowercase=True  keep_punctuation=False  collapse_hashtags=False  collapse_urls=False  collapse_mentions=True\n",
    "\n",
    "Accuracy: 0.8956\n",
    "    \n",
    "**3.**lowercase=False  keep_punctuation=False  collapse_hashtags=False  collapse_urls=True  collapse_mentions=True\n",
    "\n",
    "Accuracy: 0.8956\n",
    "    \n",
    "**4.**lowercase=False  keep_punctuation=False  collapse_hashtags=False  collapse_urls=False  collapse_mentions=True\n",
    "\n",
    "Accuracy: 0.8956\n",
    "\n",
    "**5.**lowercase=False  keep_punctuation=False  collapse_hashtags=False  collapse_urls=True  collapse_mentions=False\n",
    "\n",
    "Accuracy: 0.8936\n",
    "    \n",
    "**6.**lowercase=True  keep_punctuation=False  collapse_hashtags=False  collapse_urls=True  collapse_mentions=False\n",
    "\n",
    "Accuracy: 0.8936\n",
    "\n",
    "**Note that collapse_hastags is False in all top options**"
   ]
  },
  {
   "cell_type": "markdown",
   "metadata": {},
   "source": [
    "#Test Data"
   ]
  },
  {
   "cell_type": "code",
   "execution_count": 517,
   "metadata": {
    "collapsed": false
   },
   "outputs": [
    {
     "data": {
      "text/plain": [
       "LogisticRegression(C=1.0, class_weight=None, dual=False, fit_intercept=True,\n",
       "          intercept_scaling=1, max_iter=100, multi_class='ovr',\n",
       "          penalty='l2', random_state=42, solver='liblinear', tol=0.0001,\n",
       "          verbose=0)"
      ]
     },
     "execution_count": 517,
     "metadata": {},
     "output_type": "execute_result"
    }
   ],
   "source": [
    "# First, we'll train our final classifier using our best settings.\n",
    "X, vec = do_vectorize(region1_tweets, tokenizer_fn=tokenize,\n",
    "                      options=['lowercase', 'collapse_urls', 'collapse_mentions'],\n",
    "                      binary=True, min_df=2)\n",
    "clf = get_clf()\n",
    "clf.fit(X, y)"
   ]
  },
  {
   "cell_type": "code",
   "execution_count": 355,
   "metadata": {
    "collapsed": false
   },
   "outputs": [
    {
     "name": "stdout",
     "output_type": "stream",
     "text": [
      "<type 'numpy.ndarray'>\n",
      "(1L, 890L)\n"
     ]
    }
   ],
   "source": [
    "print type(clf.coef_)\n",
    "print clf.coef_.shape"
   ]
  },
  {
   "cell_type": "code",
   "execution_count": 523,
   "metadata": {
    "collapsed": false
   },
   "outputs": [
    {
     "name": "stdout",
     "output_type": "stream",
     "text": [
      "[ 0.10640977  0.08158325  0.06718758  0.09164162 -0.42406012  0.2328661\n",
      " -0.42462844 -0.28431027  0.31854775  0.04011346]\n",
      "[u'04', u'05', u'06', u'07', u'1', u'10', u'100', u'103', u'11', u'12']\n"
     ]
    }
   ],
   "source": [
    "# Here are the first 10 coefficients.\n",
    "print(clf.coef_[0][:10])\n",
    "# The features corresponding to them can be found using the vectorizer's get_feature_names method.\n",
    "print(vec.get_feature_names()[:10])"
   ]
  },
  {
   "cell_type": "code",
   "execution_count": 358,
   "metadata": {
    "collapsed": false
   },
   "outputs": [
    {
     "name": "stdout",
     "output_type": "stream",
     "text": [
      "top traffic related coefs: [(u'traffic', 1.8382692515218977), (u'i', 1.6348675394844161), (u'closed', 0.80692471914699226), (u'ave', 0.80481753873900042), (u'way', 0.76542243341354588), (u'it', 0.73816717002940424), (u'rd', 0.7188024882323385), (u'bottleneck', 0.71263653797829418), (u'in', 0.71200960079355957), (u'car', 0.68698089580509636)]\n",
      "top unrelated coefs: [(u'air', -1.1943891501564663), (u'tickets', -1.1887570580991949), (u'this_is_a_url', -1.1887285694497771), (u'weather', -1.1308913650008723), (u'camera', -1.1272481414479434), (u'live', -1.0738528210066653), (u'ground', -1.0539055019253845), (u'by', -0.9654895669770468), (u's', -0.85376454010087399), (u'tribune', -0.83061180042124816)]\n"
     ]
    }
   ],
   "source": [
    "def get_top_coefficients(clf, vec, n=10):\n",
    "    \"\"\" Get the top n coefficients for each class (traffic related/unrelated).\n",
    "    Params:\n",
    "        clf...a LogisticRegression object that has already been fit to data.\n",
    "        vec...a CountVectorizer\n",
    "        n.....the number of features to print per class.\n",
    "    Returns:\n",
    "        Two lists of tuples. The first list containts the top terms for the traffic\n",
    "        class. Each entry is a tuple of (string, float) pairs, where\n",
    "        string is the feature name and float is the coefficient.\n",
    "        The second list is the same but for the negative class.\n",
    "        In each list, entries should be sorted in descending order of \n",
    "        absolute value.\"\"\"\n",
    "    ###TODO\n",
    "    pos = []\n",
    "    neg = []\n",
    "    for i,value in enumerate(clf.coef_[0]):\n",
    "        if (value>0):\n",
    "            pos.append((vec.get_feature_names()[i],value))\n",
    "        else :\n",
    "            neg.append((vec.get_feature_names()[i], value))\n",
    "        \n",
    "    pos_sort = sorted(pos, key=lambda pos:pos[1], reverse=True)[:n]\n",
    "    neg_sort = sorted(neg, key=lambda neg:neg[1])[:n]\n",
    "    \n",
    "    return pos_sort, neg_sort\n",
    "    ###\n",
    "\n",
    "pos_coef, neg_coef = get_top_coefficients(clf, vec, n=10)\n",
    "print('top traffic related coefs: %s' % str(pos_coef))\n",
    "print('top unrelated coefs: %s' % str(neg_coef))"
   ]
  },
  {
   "cell_type": "markdown",
   "metadata": {},
   "source": [
    "**Testing for unlabeled data**"
   ]
  },
  {
   "cell_type": "code",
   "execution_count": 521,
   "metadata": {
    "collapsed": false
   },
   "outputs": [
    {
     "name": "stdout",
     "output_type": "stream",
     "text": [
      "region6.txt represents 3849 documents with 890 features\n"
     ]
    }
   ],
   "source": [
    "def make_predictions(filename,vec,verbose=False):\n",
    "    '''\n",
    "    This method predicts for the unlabeled testing data.\n",
    "    Testing data in this case are the tweets in a particular unlabeled file\n",
    "    param...\n",
    "        filename....filename which has to be predicted\n",
    "        vec.........a CountVectorizer\n",
    "        verbose.....If true, report the properties of csr matrix of 'filename'\n",
    "    return...numpy array of predictions\n",
    "    '''\n",
    "    tweets = get_file_data(filename)\n",
    "    X_test = vec.transform(tweets)\n",
    "    if verbose:\n",
    "        print('%s represents %d documents with %d features' % (filename,X_test.shape[0], X_test.shape[1]))\n",
    "    prediction = clf.predict(X_test)\n",
    "    return prediction\n",
    "prediction = make_predictions('region6.txt',vec,verbose=True)"
   ]
  },
  {
   "cell_type": "code",
   "execution_count": 522,
   "metadata": {
    "collapsed": false
   },
   "outputs": [
    {
     "name": "stdout",
     "output_type": "stream",
     "text": [
      "76.75% of all tweets are traffic related data\n"
     ]
    }
   ],
   "source": [
    "def get_traffic_data_percentage(labels):\n",
    "    '''\n",
    "    This method calculates the percentage of data that is traffic related \n",
    "    from the predictions made in make_predictions method\n",
    "    param....\n",
    "        prediction....numpy array of predictions for the tweets\n",
    "    return....percentage of traffic related data\n",
    "    '''\n",
    "    return 1.*100*len(labels.nonzero()[0])/len(labels)\n",
    "percentage = get_prediction_percentage(prediction)\n",
    "print ('%.2f%% of all tweets are traffic related data' % (percentage))"
   ]
  },
  {
   "cell_type": "code",
   "execution_count": 411,
   "metadata": {
    "collapsed": false
   },
   "outputs": [
    {
     "name": "stdout",
     "output_type": "stream",
     "text": [
      "Traffic related tweets:\n",
      "1 .  Exit ramp closed. police activity in #Kennedy on I-90 Outbound at Fullerton Ave #traffic #Chicago https://t.co/GCesNZGx1X\n",
      "2 .  RT @MaxBlumenthal: Front line of Chicago #LaquanMcDonald #BlackoutBlackFriday march. intense crowd proceeding thru downtown traffic https:/…\n",
      "3 .  RT @BlissTabitha: Protesters in Chicago Block Store Entrances, Shut Down Traffic on Black Friday https://t.co/qsQRaj3cJ6\n",
      "4 .  “Chants of \"16 shots\" rang out, as protesters marched downtown at rush hour, blocking traffic” https://t.co/HKxdV4HUW2 #Chicago #CPD\n",
      "5 .  Protesters in Chicago Blocked Store Entrances and Shut Down Traffic on Black Friday https://t.co/mCNIFFZtRD\n"
     ]
    }
   ],
   "source": [
    "def display_traffic_tweets(tweets,prediction,n=5,label=1):\n",
    "    '''\n",
    "    This method displays the tweets according to the predictions made.\n",
    "    params:\n",
    "        tweets......list of text of tweets\n",
    "        prediction..numpy array of prediction of labels\n",
    "        n...........number of tweets to be displayed\n",
    "        label.......either 0 or 1. 0 for non traffic tweets and 1 for traffic related tweets\n",
    "    Result:\n",
    "        Display 'n' number of tweets according to the prediction label\n",
    "    '''\n",
    "    count = 1\n",
    "    if label == 1:\n",
    "        arr = prediction.nonzero()[0]\n",
    "    elif label == 0:\n",
    "        arr = np.where(prediction == 0)[0]\n",
    "    for i in arr[:n]:\n",
    "        print count,'. ',tweets[i]\n",
    "        count +=1\n",
    "        \n",
    "print 'Traffic related tweets:'\n",
    "display_traffic_tweets(region6_tweets,prediction,n=5,label=1)\n"
   ]
  },
  {
   "cell_type": "code",
   "execution_count": 444,
   "metadata": {
    "collapsed": false
   },
   "outputs": [
    {
     "name": "stdout",
     "output_type": "stream",
     "text": [
      "region10.txt represents 792 documents with 890 features\n",
      "region11.txt represents 2020 documents with 890 features\n",
      "region12.txt represents 2043 documents with 890 features\n",
      "region14.txt represents 183 documents with 890 features\n",
      "region15.txt represents 139 documents with 890 features\n",
      "region2.txt represents 780 documents with 890 features\n",
      "region20.txt represents 2901 documents with 890 features\n",
      "region21.txt represents 2913 documents with 890 features\n",
      "region3.txt represents 1630 documents with 890 features\n",
      "region4.txt represents 915 documents with 890 features\n",
      "region5.txt represents 715 documents with 890 features\n",
      "region6.txt represents 3849 documents with 890 features\n",
      "region9.txt represents 777 documents with 890 features\n",
      "region22.txt represents 202 documents with 890 features\n"
     ]
    }
   ],
   "source": [
    "def traffic_related_tweets(filenames,vec):\n",
    "    '''\n",
    "    For the list of filenames calculate the percentage of traffic data in them\n",
    "    params.....\n",
    "        filenames......list of filenames\n",
    "        vec............a CountVectorizer\n",
    "    Return:\n",
    "        files........list of filenames of which the percent was calculated\n",
    "        percentage...list of floating values of percent of traffic data in corresponding file\n",
    "    '''\n",
    "    percentage = []\n",
    "    files = []\n",
    "    for filename in filenames:\n",
    "        if os.stat('data'+os.sep+filename).st_size != 0: #check if file is empty\n",
    "            prediction = make_predictions(filename,vec,verbose=True)\n",
    "            percentage.append(get_traffic_data_percentage(prediction))\n",
    "            files.append(filename)\n",
    "    return files,percentage      \n",
    "files,percent = traffic_related_tweets(unlabeled_files,vec)"
   ]
  },
  {
   "cell_type": "code",
   "execution_count": 439,
   "metadata": {
    "collapsed": false
   },
   "outputs": [
    {
     "data": {
      "image/png": "[encoded data removed]",
      "text/plain": [
       "<matplotlib.figure.Figure at 0x1a4b7a20>"
      ]
     },
     "metadata": {},
     "output_type": "display_data"
    }
   ],
   "source": [
    "file_idx = [i for i in range(len(files))]\n",
    "plt.bar(file_idx,percent)\n",
    "plt.xticks(file_idx, files,rotation=45)\n",
    "plt.xlabel('Regions')\n",
    "plt.ylabel('Percentage of traffic data')\n",
    "plt.show()"
   ]
  },
  {
   "cell_type": "markdown",
   "metadata": {},
   "source": [
    "**Testing for labeled data**"
   ]
  },
  {
   "cell_type": "code",
   "execution_count": 458,
   "metadata": {
    "collapsed": false
   },
   "outputs": [
    {
     "name": "stdout",
     "output_type": "stream",
     "text": [
      "X_test represents 202 documents with 890 features\n",
      "y_test has 104 traffic related and 98 non traffic labels\n",
      "testing accuracy for region22.txt=0.9257\n"
     ]
    }
   ],
   "source": [
    "def labeled_data_accuracy(filename,vec):\n",
    "    '''\n",
    "    Calculate the accuracy for labeled data\n",
    "    params....\n",
    "        filename....file name\n",
    "        vec.........vec object of CountVectorizer\n",
    "    '''\n",
    "    tweets = get_file_data(filename)\n",
    "    X_test = vec.transform(tweets)\n",
    "    y_test = get_true_labels(filename)\n",
    "    print('X_test represents %d documents with %d features' % (X_test.shape[0], X_test.shape[1]))\n",
    "    print('y_test has %d traffic related and %d non traffic labels' % (len(np.where(y_test==1)[0]),\n",
    "                                                              len(np.where(y_test==0)[0])))\n",
    "\n",
    "    accuracy = accuracy_score(y_test, clf.predict(X_test))\n",
    "    return accuracy\n",
    "print('testing accuracy for region22.txt=%.4g' % labeled_data_accuracy('region22.txt',vec))"
   ]
  },
  {
   "cell_type": "code",
   "execution_count": 454,
   "metadata": {
    "collapsed": false
   },
   "outputs": [
    {
     "name": "stdout",
     "output_type": "stream",
     "text": [
      "region22.txt file predicted 58.91% of traffic data where as actual ratio is 51.49%\n",
      "region8.txt file predicted 53.66% of traffic data where as actual ratio is 47.97%\n"
     ]
    }
   ],
   "source": [
    "def verify_predictions(filenames):\n",
    "    '''\n",
    "    Verify predictions by comparing the percent of traffic data using true labels vs. the predicted labels.\n",
    "    param.....\n",
    "        filenames......list of filenames\n",
    "    '''\n",
    "    for filename in filenames:\n",
    "        prediction=make_predictions(filename,vec)\n",
    "        predicted_percent = get_traffic_data_percentage(prediction)\n",
    "        actual_percent = get_traffic_data_percentage(get_true_labels(filename))\n",
    "        print ('%s file predicted %.2f%% of traffic data where as actual ratio is %.2f%%'%(filename,predicted_percent,actual_percent))\n",
    "verify_predictions(['region22.txt','region8.txt'])"
   ]
  },
  {
   "cell_type": "markdown",
   "metadata": {},
   "source": [
    "#Experiment"
   ]
  },
  {
   "cell_type": "markdown",
   "metadata": {},
   "source": [
    "**1. Removing retweets**\n",
    "\n",
    "Here we will remove the retweets from our Training data(region1.txt) \n",
    "and train the classifier again then check the results."
   ]
  },
  {
   "cell_type": "code",
   "execution_count": 477,
   "metadata": {
    "collapsed": false
   },
   "outputs": [],
   "source": [
    "#create a list of tweets and labels for region1 without the retweets\n",
    "region1_filter_tweets = [t for t in region1_tweets if not t.startswith('RT')]\n",
    "reg1_labels = np.array([label for i,label in enumerate(get_true_labels('region1.txt')) \n",
    "                        if not region1_tweets[i].startswith('RT')])"
   ]
  },
  {
   "cell_type": "code",
   "execution_count": 480,
   "metadata": {
    "collapsed": false
   },
   "outputs": [
    {
     "name": "stdout",
     "output_type": "stream",
     "text": [
      "accuracy after removing Re-tweets: 0.8407\n"
     ]
    }
   ],
   "source": [
    "#calculating the accuracy after removing retweets\n",
    "print('accuracy after removing Re-tweets: %.4g' % do_expt(region1_filter_tweets, reg1_labels))"
   ]
  },
  {
   "cell_type": "markdown",
   "metadata": {},
   "source": [
    "**Conclusion:** We see that removing the retweets decreases the accuracy of the classifier."
   ]
  },
  {
   "cell_type": "markdown",
   "metadata": {},
   "source": [
    "**2. Reducing feature size**\n",
    "\n",
    "Here we will reduce the number of features of the classifier by traning the classifier \n",
    "with less number of tweets compared to the previous.\n",
    "\n",
    "Using region22.txt labeled data which contains 202 tweets."
   ]
  },
  {
   "cell_type": "code",
   "execution_count": 489,
   "metadata": {
    "collapsed": false
   },
   "outputs": [
    {
     "name": "stdout",
     "output_type": "stream",
     "text": [
      "region22.txt contains 202 tweets\n"
     ]
    }
   ],
   "source": [
    "#Get all tweets and labels for region22.txt\n",
    "reg22_tweets = get_file_data('region22.txt')\n",
    "reg22_labels = get_true_labels('region22.txt')\n",
    "print 'region22.txt contains %d tweets' % (len(reg22_tweets))\n"
   ]
  },
  {
   "cell_type": "code",
   "execution_count": 494,
   "metadata": {
    "collapsed": false
   },
   "outputs": [
    {
     "data": {
      "text/plain": [
       "LogisticRegression(C=1.0, class_weight=None, dual=False, fit_intercept=True,\n",
       "          intercept_scaling=1, max_iter=100, multi_class='ovr',\n",
       "          penalty='l2', random_state=42, solver='liblinear', tol=0.0001,\n",
       "          verbose=0)"
      ]
     },
     "execution_count": 494,
     "metadata": {},
     "output_type": "execute_result"
    }
   ],
   "source": [
    "#Vectorize the training data with best options\n",
    "X, vec22 = do_vectorize(reg22_tweets, tokenizer_fn=tokenize,\n",
    "                      options=['lowercase', 'collapse_urls', 'collapse_mentions'],\n",
    "                      binary=True, min_df=2)\n",
    "clf = get_clf()\n",
    "clf.fit(X, reg22_labels)"
   ]
  },
  {
   "cell_type": "code",
   "execution_count": 495,
   "metadata": {
    "collapsed": false
   },
   "outputs": [
    {
     "name": "stdout",
     "output_type": "stream",
     "text": [
      "accuracy score for region22.txt : 0.7974\n"
     ]
    }
   ],
   "source": [
    "#calculating the accuracy\n",
    "print('accuracy score for region22.txt : %.4g' % do_expt(reg22_tweets, reg22_labels))"
   ]
  },
  {
   "cell_type": "code",
   "execution_count": 502,
   "metadata": {
    "collapsed": false
   },
   "outputs": [
    {
     "name": "stdout",
     "output_type": "stream",
     "text": [
      "X_test represents 978 documents with 336 features\n",
      "y_test has 438 traffic related and 540 non traffic labels\n",
      "accuracy of region1.txt = 0.6125\n"
     ]
    }
   ],
   "source": [
    "#now we calculate the accuracy of labeled file region1.txt using the classifier we created above\n",
    "acc = labeled_data_accuracy('region1.txt',vec22)\n",
    "print 'accuracy of region1.txt = %.4g' %acc"
   ]
  },
  {
   "cell_type": "markdown",
   "metadata": {},
   "source": [
    "**Note: ** It can be observed that when number of features are less, the accuracy score for larger data reduces"
   ]
  },
  {
   "cell_type": "markdown",
   "metadata": {},
   "source": [
    "**3. Error Analysis**"
   ]
  },
  {
   "cell_type": "code",
   "execution_count": 506,
   "metadata": {
    "collapsed": false
   },
   "outputs": [
    {
     "data": {
      "text/plain": [
       "LogisticRegression(C=1.0, class_weight=None, dual=False, fit_intercept=True,\n",
       "          intercept_scaling=1, max_iter=100, multi_class='ovr',\n",
       "          penalty='l2', random_state=42, solver='liblinear', tol=0.0001,\n",
       "          verbose=0)"
      ]
     },
     "execution_count": 506,
     "metadata": {},
     "output_type": "execute_result"
    }
   ],
   "source": [
    "#Reset the classifier to previous settings.\n",
    "X, vec = do_vectorize(region1_tweets, tokenizer_fn=tokenize,\n",
    "                      options=['lowercase', 'collapse_urls', 'collapse_mentions'],\n",
    "                      binary=True, min_df=2)\n",
    "clf = get_clf()\n",
    "clf.fit(X, y)"
   ]
  },
  {
   "cell_type": "code",
   "execution_count": 509,
   "metadata": {
    "collapsed": false
   },
   "outputs": [
    {
     "data": {
      "text/plain": [
       "[{'index': 44,\n",
       "  'predicted': 1,\n",
       "  'probas': array([ 0.00945491,  0.99054509]),\n",
       "  'truth': 0,\n",
       "  'tweet': u'@PaulWJR @MitchAlbom How come I no longer get show podcasts through iTunes? They make sitting in Chicago traffic much more enjoyable!!'},\n",
       " {'index': 52,\n",
       "  'predicted': 1,\n",
       "  'probas': array([ 0.01417983,  0.98582017]),\n",
       "  'truth': 0,\n",
       "  'tweet': u\"Looks like I'll be driving 700 miles through a winter storm tomorrow. So that'll be fun. I always love Chicago traffic with a snowstorm.\"},\n",
       " {'index': 119,\n",
       "  'predicted': 1,\n",
       "  'probas': array([ 0.01608411,  0.98391589]),\n",
       "  'truth': 0,\n",
       "  'tweet': u\"I'm glad Chicago Police are ghosts when it comes to writing tickets for blocking traffic.\\n\\nBut don't let them see you overstay parking!\"},\n",
       " {'index': 83,\n",
       "  'predicted': 1,\n",
       "  'probas': array([ 0.03854697,  0.96145303]),\n",
       "  'truth': 0,\n",
       "  'tweet': u'That Chicago traffic was no joke though!'},\n",
       " {'index': 43,\n",
       "  'predicted': 1,\n",
       "  'probas': array([ 0.07270909,  0.92729091]),\n",
       "  'truth': 0,\n",
       "  'tweet': u'@Spartan_Radio awesome, thanks.  The app is great and makes sitting in Chicago traffic much more enjoyable!'},\n",
       " {'index': 12,\n",
       "  'predicted': 1,\n",
       "  'probas': array([ 0.11434749,  0.88565251]),\n",
       "  'truth': 0,\n",
       "  'tweet': u'Clybourn Bike Lanes Getting Traffic Signals Soon https://t.co/1BrrdlWZP4'},\n",
       " {'index': 101,\n",
       "  'predicted': 1,\n",
       "  'probas': array([ 0.1207516,  0.8792484]),\n",
       "  'truth': 0,\n",
       "  'tweet': u'Lived in Chicago for over a year now and still have no clue what the newscasters are talking about when they give the traffic update \\U0001f626'},\n",
       " {'index': 9,\n",
       "  'predicted': 1,\n",
       "  'probas': array([ 0.13115827,  0.86884173]),\n",
       "  'truth': 0,\n",
       "  'tweet': u'Clybourn Bike Lanes Getting Traffic Signals Soon: Installing bike-specific traffic signals is the final piece of\\u2026 https://t.co/3wvEHlshGE'},\n",
       " {'index': 133,\n",
       "  'predicted': 1,\n",
       "  'probas': array([ 0.29478359,  0.70521641]),\n",
       "  'truth': 0,\n",
       "  'tweet': u'Family Says Harassment At Traffic Stop Racially Motivated \\xab CBS Chicago https://t.co/uS3an9hAHY'},\n",
       " {'index': 128,\n",
       "  'predicted': 1,\n",
       "  'probas': array([ 0.33320826,  0.66679174]),\n",
       "  'truth': 0,\n",
       "  'tweet': u'Tribune Finds Broad Faults in Chicago Traffic Cameras https://t.co/OZwvOAG0zZ'}]"
      ]
     },
     "execution_count": 509,
     "metadata": {},
     "output_type": "execute_result"
    }
   ],
   "source": [
    "def get_top_errors(X_test, y_test, tweets, clf, n=10):\n",
    "    \"\"\"\n",
    "    Use clf to predict the labels of the testing data in X_test. \n",
    "    We want to find incorrectly predicted documents. Furthermore, we want to look at those \n",
    "    where the probability of the incorrect label, according to the classifier, is highest.\n",
    "    Params:\n",
    "        X_test......the testing matrix\n",
    "        y_test......the true labels testing tweets\n",
    "        tweets......the list of text of tweets in file\n",
    "        clf.........a trained LogisticRegression object\n",
    "        n...........the number of errors to return\n",
    "    Returns:\n",
    "        A list of n dicts containing the following key/value pairs:\n",
    "           index: the index of this document (in the filenames array)\n",
    "           probas: a numpy array containing the probability of class 0 and 1\n",
    "           truth: the true label\n",
    "           predicted: the predicted label\n",
    "           tweet: text of tweet\n",
    "    \"\"\"\n",
    "    error_list = []\n",
    "    err_dict = {}\n",
    "    incorrect_labels = {}\n",
    "    predicted = clf.predict(X_test)\n",
    "    P = clf.predict_proba(X_test)\n",
    "    \n",
    "    for index in range(X_test.shape[0]):\n",
    "        if(predicted[index] != y_test[index]):\n",
    "            incorrect_labels[index] = P[index,predicted[index]]\n",
    "            \n",
    "    incorrect_labels = sorted(incorrect_labels.items(), key=lambda x:x[1],reverse=True) \n",
    "\n",
    "    for label in incorrect_labels:\n",
    "        index = label[0]\n",
    "        err_dict['tweet'] = (tweets[index])\n",
    "        err_dict['index'] = index\n",
    "        err_dict['predicted'] = predicted[index]\n",
    "        err_dict['probas'] = P[index]\n",
    "        err_dict['truth'] = y_test[index]\n",
    "        error_list.append(err_dict)\n",
    "        err_dict = {} \n",
    "    \n",
    "    return error_list[:n]\n",
    "\n",
    "\n",
    "errors = get_top_errors(vec.transform(reg22_tweets), reg22_labels, reg22_tweets, clf)\n",
    "errors"
   ]
  },
  {
   "cell_type": "code",
   "execution_count": null,
   "metadata": {
    "collapsed": true
   },
   "outputs": [],
   "source": []
  },
  {
   "cell_type": "markdown",
   "metadata": {},
   "source": [
    "**4. Testing robustness of the classifier**"
   ]
  },
  {
   "cell_type": "code",
   "execution_count": 547,
   "metadata": {
    "collapsed": false
   },
   "outputs": [
    {
     "data": {
      "image/png": "[encoded data removed]",
      "text/plain": [
       "<matplotlib.figure.Figure at 0x18220080>"
      ]
     },
     "metadata": {},
     "output_type": "display_data"
    },
    {
     "data": {
      "image/png": "[encoded data removed]",
      "text/plain": [
       "<matplotlib.figure.Figure at 0x1b7c5940>"
      ]
     },
     "metadata": {},
     "output_type": "display_data"
    },
    {
     "data": {
      "image/png": "[encoded data removed]",
      "text/plain": [
       "<matplotlib.figure.Figure at 0x175e4ba8>"
      ]
     },
     "metadata": {},
     "output_type": "display_data"
    },
    {
     "data": {
      "image/png": "[encoded data removed]",
      "text/plain": [
       "<matplotlib.figure.Figure at 0x191a8c50>"
      ]
     },
     "metadata": {},
     "output_type": "display_data"
    },
    {
     "data": {
      "image/png": "[encoded data removed]",
      "text/plain": [
       "<matplotlib.figure.Figure at 0x1a553f28>"
      ]
     },
     "metadata": {},
     "output_type": "display_data"
    },
    {
     "data": {
      "text/plain": [
       "[[0.88331763474620628,\n",
       "  0.88332810047095767,\n",
       "  0.86384615384615382,\n",
       "  0.8331868131868132,\n",
       "  0.79948194662480376,\n",
       "  0.7840711669283098,\n",
       "  0.7421297749869179],\n",
       " [0.87616431187859756,\n",
       "  0.88028780743066459,\n",
       "  0.87514390371533213,\n",
       "  0.8311041339612768,\n",
       "  0.83217163788592363,\n",
       "  0.80657770800627948,\n",
       "  0.75030873888016747],\n",
       " [0.88434327577184724,\n",
       "  0.88026164311878596,\n",
       "  0.85465201465201468,\n",
       "  0.82600209314495032,\n",
       "  0.78409733124018843,\n",
       "  0.76160125588697025,\n",
       "  0.73392987964416534],\n",
       " [0.89048665620094192,\n",
       "  0.88124542124542116,\n",
       "  0.85054945054945053,\n",
       "  0.83218733647305076,\n",
       "  0.82294610151753012,\n",
       "  0.79023024594453162,\n",
       "  0.76972789115646267],\n",
       " [0.88947148090005235,\n",
       "  0.87713239141810573,\n",
       "  0.85364207221350075,\n",
       "  0.81064887493458926,\n",
       "  0.82293563579277862,\n",
       "  0.79122448979591842,\n",
       "  0.76769230769230767]]"
      ]
     },
     "execution_count": 547,
     "metadata": {},
     "output_type": "execute_result"
    }
   ],
   "source": [
    "def calc_robustness(tweets,y):\n",
    "    '''\n",
    "    This method calculates the robustness of the classifier.\n",
    "    In this method we change small percentage of y label. eg. change 1 to 0 or 0 to 1.\n",
    "    Random function selects the number of labels to be changed according to the percent value.\n",
    "    eg. 10 percent of 700 labels has to be changed, then the random function chooses\n",
    "    70 labels and flip its value.\n",
    "    params....\n",
    "        tweets......list of text of tweets\n",
    "        y...........true label\n",
    "    returns...\n",
    "        list of average accuracies calculated for different percent of labels.\n",
    "    '''\n",
    "    change_label = [1,2,5,10,15,20,30]\n",
    "    avg_acc = []\n",
    "    for percent in change_label:\n",
    "        y_copy = y.copy()\n",
    "        rand_idx = random.sample(range(len(y_copy)),(len(y_copy)*percent/100))\n",
    "        for idx in rand_idx:\n",
    "            if y_copy[idx]==0:\n",
    "                y_copy[idx]=1 \n",
    "            if y_copy[idx]==1:\n",
    "                y_copy[idx]=0\n",
    "\n",
    "        avg_acc.append(do_expt(tweets,y_copy))\n",
    "    \n",
    "    plt.plot(change_label,avg_acc,'ro-')\n",
    "    plt.xlabel('Percent of label values flipped')\n",
    "    plt.ylabel('Average Accuracy')\n",
    "    plt.show()\n",
    "    return avg_acc\n",
    "#run the cal_robustness() method 5 times to get 5 different accuracies.\n",
    "acc=[]\n",
    "for i in range(5):\n",
    "    acc.append(calc_robustness(region1_tweets,y))\n",
    "acc"
   ]
  },
  {
   "cell_type": "code",
   "execution_count": 557,
   "metadata": {
    "collapsed": false
   },
   "outputs": [
    {
     "data": {
      "text/plain": [
       "array([ 0.05006212,  0.04367757,  0.0548806 ,  0.04117709,  0.04162134])"
      ]
     },
     "execution_count": 557,
     "metadata": {},
     "output_type": "execute_result"
    }
   ],
   "source": [
    "#Computing standard deviation for different iteration of percent values\n",
    "numpy_acc = np.array(acc)\n",
    "np.std(numpy_acc,axis=1)"
   ]
  },
  {
   "cell_type": "markdown",
   "metadata": {},
   "source": [
    "**Conclusion: **From above we can see that the accuracy of the classifier \n",
    "decreases steeply after more than 2-5% of noise is induced in the labels"
   ]
  }
 ],
 "metadata": {
  "celltoolbar": "Raw Cell Format",
  "kernelspec": {
   "display_name": "Python 2",
   "language": "python",
   "name": "python2"
  },
  "language_info": {
   "codemirror_mode": {
    "name": "ipython",
    "version": 2
   },
   "file_extension": ".py",
   "mimetype": "text/x-python",
   "name": "python",
   "nbconvert_exporter": "python",
   "pygments_lexer": "ipython2",
   "version": "2.7.10"
  }
 },
 "nbformat": 4,
 "nbformat_minor": 0
}
